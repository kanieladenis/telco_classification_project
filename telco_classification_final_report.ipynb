{
 "cells": [
  {
   "cell_type": "markdown",
   "id": "a97bea00",
   "metadata": {},
   "source": [
    "# How to Reduce Churn at Telco\n",
    "\n",
    "by Kaniela Denis, 29 November 2011\n",
    "\n",
    "## Project Goal\n",
    "\n",
    "The goal of this project is to identify attributes of customers that churn and based on those attributes  provide a recommendation that will increase customer retention.\n",
    "\n",
    "## Project Description\n",
    "\n",
    "Anaylize customers that churn, identify significant attributes, then based on those attributes, build a machine learning model that will predict the probablity of a customer churning, provide a recommendation to reduce churn for a subgroup, and deliver a list of customers that are predicted to churn (delivered via csv).\n",
    "\n",
    "## Initial Questions\n",
    "\n",
    "1. How many customers are churning and not churning?\n",
    "\n",
    "2. What is the timeline of churn?\n",
    "\n",
    "3. At what month of tenure are they churning?\n",
    "\n",
    "4. What non-monetary attributes are associated with churned customers?\n",
    "\n",
    "5. What monetary attributes are associated with churned customers?\n",
    "\n",
    "6. Do monetary attributes outweigh non-monetary drivers?\n",
    "\n",
    "7. What drivers are easiest to change with least amount of impact to the customer?\n",
    "\n",
    "## Data Dictionary\n",
    "\n",
    "| Variable              | Meaning                                                                           |\n",
    "|:----------------------|:----------------------------------------------------------------------------------|\n",
    "| customer_id           | alphas numeric identifer for each customer                                        |\n",
    "| gender                | if customer is male or female                                                     |\n",
    "| senior_citizen        | if customer is a senior citizen or not                                            |\n",
    "| partner               | if customer has a partner or not                                                  |\n",
    "| dependents            | if customer has dependents or not                                                 |\n",
    "| tenure                | number of months the customer has been with telco                                 |\n",
    "| phone_service         | if customer has phone service or not                                              |\n",
    "| multiple_lines        | if customer has phone multiple phone lines or not, or no phone service            |\n",
    "| online_security       | if customer has online security or not, or no internet service                    |\n",
    "| online_backup         | if customer has online backup or not, or no internet service                      |\n",
    "| device_protection     | if customer has device protection or not, or no internet service                  |\n",
    "| tech_support          | if customer has tech support or not, or no internet service                       |\n",
    "| streaming_tv          | if customer has streaming tv or not, or no internet service                       |\n",
    "| streaming_movies      | if customer has streaming movies or not, or no internet service                   |\n",
    "| paperless_billing     | if custome has paperless billing or not                                           |\n",
    "| monthly_charges       | amount paid by custome per month                                                  |\n",
    "| total_charges         | total amount paid by customer over tenure                                         |\n",
    "| churn                 | if customer has left telco or not                                                 |\n",
    "| contract_type         | if customer has a month-to-month, 1 year, or 2 year contract                      |\n",
    "| internet_service_type | if customer's internet service is fiber optic, DSL, or no internet service        |\n",
    "| payment_type          | payment is mailed check, electronic check, auto credit card, or auto bank account |"
   ]
  },
  {
   "cell_type": "markdown",
   "id": "cdd7c2e2",
   "metadata": {},
   "source": [
    "## Wrangle Telco Data\n",
    "### Acquire Data\n",
    "\n",
    "To acquire the telco data, I used the **telco_db** from our MySQL server and select all columns from all tables (customers, contact_types, internet_service_types, and payment_types) in the database. \n",
    "\n",
    "`SELECT * FROM customers c\n",
    "JOIN contract_types ct ON ct.contract_type_id=c.contract_type_id\n",
    "JOIN internet_service_types ist ON ist.internet_service_type_id=c.internet_service_type_id\n",
    "JOIN payment_types pt ON pt.payment_type_id=c.payment_type_id`"
   ]
  },
  {
   "cell_type": "code",
   "execution_count": 1,
   "id": "7626a439",
   "metadata": {},
   "outputs": [],
   "source": [
    "# import common libraries for data manipulations\n",
    "import pandas as pd\n",
    "import numpy as np\n",
    "import matplotlib.pyplot as plt\n",
    "import seaborn as sns\n",
    "import scipy.stats as stats\n",
    "\n",
    "# import ignore warnings\n",
    "import warnings\n",
    "warnings.filterwarnings(\"ignore\")\n",
    "\n",
    "#import classification algorithms\n",
    "from sklearn.tree import DecisionTreeClassifier\n",
    "from sklearn.ensemble import RandomForestClassifier\n",
    "from sklearn.neighbors import KNeighborsClassifier\n",
    "\n",
    "#import model reporting\n",
    "from sklearn.metrics import classification_report\n",
    "from sklearn.metrics import confusion_matrix\n",
    "\n",
    "# import custom functions\n",
    "import acquire_telco\n",
    "import prep_telco\n",
    "\n",
    "# connect to our MySQL server and run the query to return a datafram of all tables in telco_db\n",
    "df = acquire_telco.get_telco()"
   ]
  },
  {
   "cell_type": "markdown",
   "id": "9692b44a",
   "metadata": {},
   "source": [
    "## Clean Data\n",
    "\n",
    "To clean the data, I did the following: \n",
    "1. Removed duplicate columns\n",
    "2. Filled in blank values in column 'total_charges' with zero.\n",
    "3. Converted data type of 'total_charges' to float.\n",
    "4. Created payment column that combined auto and manual payment types."
   ]
  },
  {
   "cell_type": "code",
   "execution_count": 2,
   "id": "f796328c",
   "metadata": {},
   "outputs": [],
   "source": [
    "# run clean_telco on telco data\n",
    "df = prep_telco.clean_telco(df)"
   ]
  },
  {
   "cell_type": "markdown",
   "id": "1a5c90a7",
   "metadata": {},
   "source": [
    "## Data Context\n",
    "\n",
    "- Data is from 7,043 customers of which 1,869 have churned, a 27% churn rate"
   ]
  },
  {
   "cell_type": "code",
   "execution_count": 3,
   "id": "dfc4a951",
   "metadata": {},
   "outputs": [
    {
     "data": {
      "image/png": "[encoded data removed]",
      "text/plain": [
       "<Figure size 1080x360 with 1 Axes>"
      ]
     },
     "metadata": {},
     "output_type": "display_data"
    }
   ],
   "source": [
    "# Visual of Churned Customers to Total Customers\n",
    "labels=['Churn','Not-Churn']\n",
    "plt.figure(figsize=(15,5))\n",
    "plt.pie([df.churn_yes.sum(),df.churn_no.sum()], labels=labels)\n",
    "plt.title('Churn is 27%')\n",
    "plt.show()"
   ]
  },
  {
   "cell_type": "markdown",
   "id": "0e110c8e",
   "metadata": {},
   "source": [
    "### Significant Subgroups:\n",
    "1. Not senior citizen: 5,901\n",
    "2. No dependents: 4,933\n",
    "3. Phone service: 6,631\n",
    "4. No Online Security: 2,019 \n",
    "5. No Tech Support: 3,473\n",
    "6. Paperless billing: 4,171\n",
    "7. Month-to-month contract: 3,875\n",
    "8. Manual payment: 3,977"
   ]
  },
  {
   "cell_type": "markdown",
   "id": "b7803ecf",
   "metadata": {},
   "source": [
    "## Split the Data"
   ]
  },
  {
   "cell_type": "code",
   "execution_count": 4,
   "id": "d60e4827",
   "metadata": {},
   "outputs": [],
   "source": [
    "# Run split_telco function from the imported prep_telco file\n",
    "train, validate, test = prep_telco.split_telco(df)"
   ]
  },
  {
   "cell_type": "markdown",
   "id": "3a6d8728",
   "metadata": {},
   "source": [
    "- Data is now split into 3 samples of train, validate, and test.\n",
    "- Split is 56% for train, 24% for validate, and 20% for test\n",
    "- Train sample is used to explore and fit the data to models. \n",
    "- Validate sample is used to confirm the models are not overfit to the train data. \n",
    "- Test sample is used to provide a final confirmation that the best model is not overfit to the train data. "
   ]
  },
  {
   "cell_type": "markdown",
   "id": "0290e7c1",
   "metadata": {},
   "source": [
    "## Exploratory Analysis: Which Customers are Most Likely to Churn? \n",
    "\n",
    "I have answered the following questions:\n",
    "\n",
    "1. What is the timeline of churn?\n",
    "\n",
    "2. What are significant people attributes associated with significant churn?\n",
    "\n",
    "3. What are significant service attributes associated with significant churn?\n",
    "\n",
    "4. Do people attributes outweigh service attributes?\n",
    "\n",
    "5. Is the average churn from customers using **manual payment** greater than the average churn of all customers?\n",
    "\n",
    "6. For customers on month-to-month contract and using manual payment, is churn greater for those using **paperless billing** than those having **no dependents**?\n",
    "\n",
    "### Question 1\n",
    "\n",
    "What is the timeline of churn?"
   ]
  },
  {
   "cell_type": "code",
   "execution_count": 5,
   "id": "29251530",
   "metadata": {},
   "outputs": [
    {
     "data": {
      "image/png": "[encoded data removed]",
      "text/plain": [
       "<Figure size 1080x360 with 1 Axes>"
      ]
     },
     "metadata": {
      "needs_background": "light"
     },
     "output_type": "display_data"
    }
   ],
   "source": [
    "# Show Timeline for Churn\n",
    "plt.figure(figsize=(15,5))\n",
    "sns.barplot(data=train, x='tenure', y='churn_yes')\n",
    "plt.title('Highest Churn Happens in the First Month')\n",
    "plt.xlabel('Tenure Month')\n",
    "plt.ylabel('Customers Churned')\n",
    "plt.show()"
   ]
  },
  {
   "cell_type": "markdown",
   "id": "5419fd1f",
   "metadata": {},
   "source": [
    "### Answer 1\n",
    "\n",
    "Highest Churn happens in month 1 of tenure. \n",
    "\n",
    "### Question 2\n",
    "\n",
    "What are significant people attributes associated with significant churn?"
   ]
  },
  {
   "cell_type": "code",
   "execution_count": 6,
   "id": "592041e6",
   "metadata": {},
   "outputs": [
    {
     "data": {
      "image/png": "[encoded data removed]",
      "text/plain": [
       "<Figure size 1080x360 with 1 Axes>"
      ]
     },
     "metadata": {
      "needs_background": "light"
     },
     "output_type": "display_data"
    }
   ],
   "source": [
    "# Graph: Churn for Customers with Month-to-Month Contracts\n",
    "plt.figure(figsize=(15,5))\n",
    "sns.barplot(data=train, x=train.contract_type, y=train.churn_yes)\n",
    "plt.title('More Churn with Month-to-Month Contracts')\n",
    "plt.xlabel('Contract Type')\n",
    "plt.ylabel('Churn Count')\n",
    "plt.show()"
   ]
  },
  {
   "cell_type": "code",
   "execution_count": 7,
   "id": "7f9780dd",
   "metadata": {},
   "outputs": [
    {
     "data": {
      "image/png": "[encoded data removed]",
      "text/plain": [
       "<Figure size 1080x360 with 1 Axes>"
      ]
     },
     "metadata": {
      "needs_background": "light"
     },
     "output_type": "display_data"
    }
   ],
   "source": [
    "# Graph: Churn for customers with No Dependents\n",
    "plt.figure(figsize=(15,5))\n",
    "sns.barplot(data=train, x=train.dependents, y=train.churn_yes)\n",
    "plt.title('More Churn with No Dependents')\n",
    "plt.xlabel('With Dependents')\n",
    "plt.ylabel('Churn Count')\n",
    "plt.show()"
   ]
  },
  {
   "cell_type": "code",
   "execution_count": 8,
   "id": "03ef1880",
   "metadata": {},
   "outputs": [
    {
     "data": {
      "image/png": "[encoded data removed]",
      "text/plain": [
       "<Figure size 1080x360 with 1 Axes>"
      ]
     },
     "metadata": {
      "needs_background": "light"
     },
     "output_type": "display_data"
    }
   ],
   "source": [
    "# Graph: Churn for Customer with Manual Payment Type\n",
    "plt.figure(figsize=(15,5))\n",
    "sns.barplot(data=train, x=train.payment_manual, y=train.churn_yes)\n",
    "plt.title('More Churn with Manual Payment')\n",
    "plt.xlabel('With Manual Payment')\n",
    "plt.ylabel('Churn Count')\n",
    "plt.show()"
   ]
  },
  {
   "cell_type": "code",
   "execution_count": 9,
   "id": "e04044b2",
   "metadata": {},
   "outputs": [
    {
     "data": {
      "image/png": "[encoded data removed]",
      "text/plain": [
       "<Figure size 1080x360 with 1 Axes>"
      ]
     },
     "metadata": {
      "needs_background": "light"
     },
     "output_type": "display_data"
    }
   ],
   "source": [
    "# Graph: Churn for Customers with paperless billing\n",
    "plt.figure(figsize=(15,5))\n",
    "sns.barplot(data=train, x=train.paperless_billing, y=train.churn_yes)\n",
    "plt.title('More Churn with Paperless Billing')\n",
    "plt.xlabel('With Paperless Billing')\n",
    "plt.ylabel('Churn Count')\n",
    "plt.show()"
   ]
  },
  {
   "cell_type": "code",
   "execution_count": 10,
   "id": "68a2ff42",
   "metadata": {},
   "outputs": [
    {
     "data": {
      "image/png": "[encoded data removed]",
      "text/plain": [
       "<Figure size 1080x360 with 1 Axes>"
      ]
     },
     "metadata": {
      "needs_background": "light"
     },
     "output_type": "display_data"
    }
   ],
   "source": [
    "# Graph: Churn for Customers that are Not Senior Citizens\n",
    "plt.figure(figsize=(15,5))\n",
    "sns.barplot(data=train, x=train.senior_citizen, y=train.churn_yes)\n",
    "plt.title('More Churn with Senior Citizens')\n",
    "plt.xlabel('Senior Citizen')\n",
    "plt.ylabel('Churn Count')\n",
    "plt.show()"
   ]
  },
  {
   "cell_type": "markdown",
   "id": "83129a52",
   "metadata": {},
   "source": [
    "### Answer 2\n",
    "\n",
    "Based on significant subgroups, customers with month-to-month contract, with no dependents, with manual payements, or with paperless billing, have significant churn.  \n",
    "\n",
    "### Question 3\n",
    "\n",
    "What are significant service attributes associated with significant churn?"
   ]
  },
  {
   "cell_type": "code",
   "execution_count": 11,
   "id": "8ce92482",
   "metadata": {},
   "outputs": [
    {
     "data": {
      "image/png": "[encoded data removed]",
      "text/plain": [
       "<Figure size 1080x360 with 1 Axes>"
      ]
     },
     "metadata": {
      "needs_background": "light"
     },
     "output_type": "display_data"
    }
   ],
   "source": [
    "# Graph: Churn for customers with phone service\n",
    "plt.figure(figsize=(15,5))\n",
    "sns.barplot(data=train, x=train.phone_service, y=train.churn_yes)\n",
    "plt.title('Even Churn with Phone Service')\n",
    "plt.xlabel('With Phone Service')\n",
    "plt.ylabel('Churn Count')\n",
    "plt.show()"
   ]
  },
  {
   "cell_type": "code",
   "execution_count": 12,
   "id": "72de6b4b",
   "metadata": {},
   "outputs": [
    {
     "data": {
      "image/png": "[encoded data removed]",
      "text/plain": [
       "<Figure size 1080x360 with 1 Axes>"
      ]
     },
     "metadata": {
      "needs_background": "light"
     },
     "output_type": "display_data"
    }
   ],
   "source": [
    "# Graph: Churn for customers with no online security\n",
    "plt.figure(figsize=(15,5))\n",
    "sns.barplot(data=train, x=train.online_security, y=train.churn_yes)\n",
    "plt.title('More Churn with No Online Security')\n",
    "plt.xlabel('With Online Security')\n",
    "plt.ylabel('Churn Count')\n",
    "plt.show()"
   ]
  },
  {
   "cell_type": "code",
   "execution_count": 13,
   "id": "68b799d9",
   "metadata": {},
   "outputs": [
    {
     "data": {
      "image/png": "[encoded data removed]",
      "text/plain": [
       "<Figure size 1080x360 with 1 Axes>"
      ]
     },
     "metadata": {
      "needs_background": "light"
     },
     "output_type": "display_data"
    }
   ],
   "source": [
    "# Graph: Churn for customers with no tech support\n",
    "plt.figure(figsize=(15,5))\n",
    "sns.barplot(data=train, x=train.tech_support, y=train.churn_yes)\n",
    "plt.title('More Churn with No Tech Support')\n",
    "plt.xlabel('With Tech Support')\n",
    "plt.ylabel('Churn Count')\n",
    "plt.show()"
   ]
  },
  {
   "cell_type": "markdown",
   "id": "ea4b8a0b",
   "metadata": {},
   "source": [
    "### Answer 3\n",
    "\n",
    "Based on significant subgroups, customers with no online security or no tech support have significant churn.  \n",
    "\n",
    "### Question 4\n",
    "\n",
    "Do people attributes outweigh service attributes?"
   ]
  },
  {
   "cell_type": "code",
   "execution_count": 14,
   "id": "a2f05d09",
   "metadata": {},
   "outputs": [
    {
     "data": {
      "image/png": "[encoded data removed]",
      "text/plain": [
       "<Figure size 1080x360 with 1 Axes>"
      ]
     },
     "metadata": {},
     "output_type": "display_data"
    }
   ],
   "source": [
    "# Churn Count for people attributes vs service attributes\n",
    "service_count = train[train.online_security_no==1].churn_yes.sum() + train[train.tech_support_no==1].churn_yes.sum()\n",
    "people_count = train[train.contract_type_month_to_month==1].churn_yes.sum() + train[train.payment_manual==1].churn_yes.sum() + train[train.dependents_no==1].churn_yes.sum() + train[train.paperless_billing_yes==1].churn_yes.sum()\n",
    "\n",
    "# Visual of Customer using Auto vs Manual Payment Method\n",
    "plt.figure(figsize=(15,5))\n",
    "labels = ['Service Attributes to Churn', 'People Attributes to Churn']\n",
    "plt.pie([service_count, people_count], labels=labels)\n",
    "plt.title('More People Attributes Drive Churn')\n",
    "plt.show()"
   ]
  },
  {
   "cell_type": "markdown",
   "id": "d317adfc",
   "metadata": {},
   "source": [
    "### Answer 4\n",
    "\n",
    "There are more people related attributes and they also associate to a higher number of churned customers\n",
    "\n",
    "### Question 5\n",
    "\n",
    "Is the average churn for customers using manual payments greater than the average churn of all customers?"
   ]
  },
  {
   "cell_type": "code",
   "execution_count": 15,
   "id": "7d4af132",
   "metadata": {},
   "outputs": [
    {
     "name": "stdout",
     "output_type": "stream",
     "text": [
      "T value is: 7.837313833751733\n",
      "P value is: 3.546611271217773e-15\n",
      "Alpha is 0.05\n"
     ]
    }
   ],
   "source": [
    "# Using Single Sample T-Test to see if average manual payment churn is greater than average overall churn\n",
    "avg_overall_churn = train.churn_yes.mean()\n",
    "manual_pay_churn = train[train.payment_manual==1].churn_yes\n",
    "alpha = .05\n",
    "\n",
    "t, p = stats.ttest_1samp(manual_pay_churn, avg_overall_churn)\n",
    "print(f'T value is: {t}')\n",
    "print(f'P value is: {p/2}')\n",
    "print(f'Alpha is {alpha}')"
   ]
  },
  {
   "cell_type": "code",
   "execution_count": 16,
   "id": "b7f847e7",
   "metadata": {},
   "outputs": [
    {
     "data": {
      "image/png": "[encoded data removed]",
      "text/plain": [
       "<Figure size 1080x360 with 1 Axes>"
      ]
     },
     "metadata": {
      "needs_background": "light"
     },
     "output_type": "display_data"
    }
   ],
   "source": [
    "# Visual of Average Churn of Manual Payment vs Average Overall Churn\n",
    "plt.figure(figsize=(15,5))\n",
    "sns.barplot(data=train, x=train.payment_manual, y=train.churn_yes)\n",
    "plt.title('Average Churn for Manual Payment Customers are Greater than Overall Average of Churn')\n",
    "plt.xlabel('Manual Payment Customers')\n",
    "plt.ylabel('Churn Count')\n",
    "plt.axhline(y=avg_overall_churn, color='red')\n",
    "plt.show()"
   ]
  },
  {
   "cell_type": "markdown",
   "id": "180f21de",
   "metadata": {},
   "source": [
    "### Answer 5 \n",
    "- The visual shows that the average churn of customer using manual payments is higher than the averge of all customer churn.\n",
    "- The T-Test has a probability lower than alpha indicating agreement with the visual\n",
    "\n",
    "### Question 6\n",
    "\n",
    "For customers on month-to-month contract and using manual payment, is churn greater when using paperless billing than when having no dependents? "
   ]
  },
  {
   "cell_type": "code",
   "execution_count": 17,
   "id": "0d4d87b0",
   "metadata": {},
   "outputs": [
    {
     "name": "stdout",
     "output_type": "stream",
     "text": [
      "T value is: 2.2278705878071703\n",
      "P value is: 0.012995504861780747\n",
      "Alpha is 0.05\n"
     ]
    }
   ],
   "source": [
    "# Create data frame of customers on month-to-month contracts using manual payments\n",
    "df_mpay = train[(train.payment_manual == 1) & (train.contract_type_month_to_month == 1)]\n",
    "\n",
    "# compare customers without dependents against customers with paperless billing\n",
    "mp_nd = df_mpay[df_mpay.dependents_no == 1].churn_yes\n",
    "mp_pb = df_mpay[df_mpay.paperless_billing_yes == 1].churn_yes\n",
    "alpha = .05\n",
    "t, p = stats.ttest_ind(mp_pb, mp_nd, equal_var=False)\n",
    "t, p/2, alpha\n",
    "print(f'T value is: {t}')\n",
    "print(f'P value is: {p/2}')\n",
    "print(f'Alpha is {alpha}')"
   ]
  },
  {
   "cell_type": "code",
   "execution_count": 18,
   "id": "6ff3616d",
   "metadata": {},
   "outputs": [
    {
     "data": {
      "image/png": "[encoded data removed]",
      "text/plain": [
       "<Figure size 1080x360 with 1 Axes>"
      ]
     },
     "metadata": {
      "needs_background": "light"
     },
     "output_type": "display_data"
    }
   ],
   "source": [
    "# Shows Month-to-Month and Manual Pay customers using Paperless Billing churn more than customers with no dependents\n",
    "y = df_mpay.churn_yes\n",
    "x = df_mpay.dependents\n",
    "hue = df_mpay.paperless_billing\n",
    "plt.figure(figsize=(15,5))\n",
    "sns.barplot(data=df_mpay, y=y, x=x, hue=hue )\n",
    "plt.title('Customers with Month-to-Month Contract and Manual Payment using Paperless Billing have greater Chrun than those with No Dependents')\n",
    "plt.xlabel('Customers with No Dependents')\n",
    "plt.ylabel('Churn Count')\n",
    "plt.show()"
   ]
  },
  {
   "cell_type": "markdown",
   "id": "b500b964",
   "metadata": {},
   "source": [
    "### Answer 6\n",
    "- The visual shows that the average churn of customers that use paperless billing is higher than the averge churn of customers that have no dependents.\n",
    "- The Independent T-Test has a probability lower than alpha indicating agreement with the visual\n",
    "\n",
    "\n",
    "\n",
    "### Summary: Which customer is most likely to churn? \n",
    "#### Through exploration, by focusing on significant subgroups, and then focusing on people attributes instead of service attributes, customers that have the following attributes will churn.\n",
    "- On Month-to-Month Contract\n",
    "- Using Manual Pay\n",
    "- Using Paperless Billing\n",
    "\n",
    "\n",
    "### Features NOT being used for Modeling:\n",
    "**Most Features Did Not Make a Significant Subgroup**\n",
    "- Customer ID: Converted to index for csv delivery\n",
    "- Gender: No significant subgroup difference between male and female\n",
    "- Senior Citien: No sigificance difference in churn between categories\n",
    "- Partner: No significant subgroup difference between partner status subgroup\n",
    "- Multiple Phone Lines: No sigfnificant subgroup difference between categories\n",
    "- Online Backup: No significant subgroup difference between categories\n",
    "- Device Protection: No significant subgroup difference between categories\n",
    "- Streaming TV: No significant subgroup differnce between categories\n",
    "- Streaming Movies: No significant subgroup difference between categories\n",
    "- Phone Service: No significant churn differnce between categories\n",
    "- Monthly Charges: Unable to differentiate between values\n",
    "- Total Charges: Unable to differentiate between values\n",
    "- Internet Service Type: No significant differency between categories\n",
    "\n",
    "### Features USED for modeling:\n",
    "**All Features Show Significant Difference in Churn Between Categories**\n",
    "1. Dependents: Favored No\n",
    "2. Tenure: Most Churn occurs within five months\n",
    "3. Tech Support: Favored no\n",
    "4. Online Security: Favored No\n",
    "5. Contract Type: Baselined to Month-to-Month\n",
    "6. Payment Type: Converted to Auto Pay and Manual Pay\n",
    "7. Paperless Billing: Favored Yes\n"
   ]
  },
  {
   "cell_type": "markdown",
   "id": "6244fa87",
   "metadata": {},
   "source": [
    "## Predicting Churn\n",
    "\n",
    "Churn is a yes or no value so we will use classification machine learning algorithms to fit to our taining data and then evaluate against our validate data. We will pick the best model using **accuracy** and **precision** because predicting a churn and getting it wrong is favorable.\n",
    "    \n",
    "## Prep Data for Modeling"
   ]
  },
  {
   "cell_type": "code",
   "execution_count": 19,
   "id": "a35df566",
   "metadata": {},
   "outputs": [],
   "source": [
    "# run prep_teco to remove columns for modeling\n",
    "train, validate, test = prep_telco.prep_telco(train,validate,test)"
   ]
  },
  {
   "cell_type": "code",
   "execution_count": 20,
   "id": "e06fdc1b",
   "metadata": {},
   "outputs": [],
   "source": [
    "# run function to create x,y versions for train, validate, test\n",
    "X_train, y_train, X_validate, y_validate, X_test, y_test = prep_telco.xy_version(train,validate,test)"
   ]
  },
  {
   "cell_type": "markdown",
   "id": "f7b827ba",
   "metadata": {},
   "source": [
    "### Baseline\n",
    "\n",
    "The baseline prediction is set for predicting all customers to **Not Churn** or (churn == 0). Model results will be compared to the baseline."
   ]
  },
  {
   "cell_type": "code",
   "execution_count": 21,
   "id": "adce4c47",
   "metadata": {},
   "outputs": [
    {
     "data": {
      "text/plain": [
       "0.7347197565305605"
      ]
     },
     "execution_count": 21,
     "metadata": {},
     "output_type": "execute_result"
    }
   ],
   "source": [
    "# Create Baseline by setting all values to zero\n",
    "baseline = (y_train == 0).mean()\n",
    "baseline"
   ]
  },
  {
   "cell_type": "markdown",
   "id": "a6bc1161",
   "metadata": {},
   "source": [
    "Baseline performed at 73% accuracy\n",
    "\n",
    "## Develop 3 Models\n",
    "- Selected models were are a Decision Tree, Random Forest, and K-Nearest Neighbor\n",
    "- Models used the same features but differed in hyperparameters which were selected as best in a range\n",
    "\n",
    "## Fit and Evaluate Train Data on Models\n",
    "### Model 1: Decision Tree"
   ]
  },
  {
   "cell_type": "code",
   "execution_count": 22,
   "id": "9796bca8",
   "metadata": {},
   "outputs": [],
   "source": [
    "# Using Decision Tree because it is easier to understand\n",
    "# Create Decision Tree Classifier Algorithym Container\n",
    "clf = DecisionTreeClassifier(max_depth=4, random_state=123)"
   ]
  },
  {
   "cell_type": "code",
   "execution_count": 23,
   "id": "0972f117",
   "metadata": {},
   "outputs": [],
   "source": [
    "# Fit Train Data to Container to make the model\n",
    "clf = clf.fit(X_train, y_train)"
   ]
  },
  {
   "cell_type": "code",
   "execution_count": 24,
   "id": "3f490fa7",
   "metadata": {},
   "outputs": [],
   "source": [
    "# Create Prediction Series\n",
    "y_pred_clf = clf.predict(X_train)"
   ]
  },
  {
   "cell_type": "code",
   "execution_count": 25,
   "id": "138c655d",
   "metadata": {},
   "outputs": [
    {
     "name": "stdout",
     "output_type": "stream",
     "text": [
      "Actual on Left, Predicted on Top\n"
     ]
    },
    {
     "data": {
      "text/html": [
       "<div>\n",
       "<style scoped>\n",
       "    .dataframe tbody tr th:only-of-type {\n",
       "        vertical-align: middle;\n",
       "    }\n",
       "\n",
       "    .dataframe tbody tr th {\n",
       "        vertical-align: top;\n",
       "    }\n",
       "\n",
       "    .dataframe thead th {\n",
       "        text-align: right;\n",
       "    }\n",
       "</style>\n",
       "<table border=\"1\" class=\"dataframe\">\n",
       "  <thead>\n",
       "    <tr style=\"text-align: right;\">\n",
       "      <th></th>\n",
       "      <th>0</th>\n",
       "      <th>1</th>\n",
       "    </tr>\n",
       "  </thead>\n",
       "  <tbody>\n",
       "    <tr>\n",
       "      <th>0</th>\n",
       "      <td>2656</td>\n",
       "      <td>241</td>\n",
       "    </tr>\n",
       "    <tr>\n",
       "      <th>1</th>\n",
       "      <td>555</td>\n",
       "      <td>491</td>\n",
       "    </tr>\n",
       "  </tbody>\n",
       "</table>\n",
       "</div>"
      ],
      "text/plain": [
       "      0    1\n",
       "0  2656  241\n",
       "1   555  491"
      ]
     },
     "execution_count": 25,
     "metadata": {},
     "output_type": "execute_result"
    }
   ],
   "source": [
    "#Confusion Matrix for Model 1\n",
    "labels = sorted(y_train.unique())\n",
    "print('Actual on Left, Predicted on Top')\n",
    "pd.DataFrame(confusion_matrix(y_train, y_pred_clf), index=labels, columns=labels)"
   ]
  },
  {
   "cell_type": "code",
   "execution_count": 26,
   "id": "3234edb8",
   "metadata": {},
   "outputs": [
    {
     "name": "stdout",
     "output_type": "stream",
     "text": [
      "              precision    recall  f1-score   support\n",
      "\n",
      "           0       0.83      0.92      0.87      2897\n",
      "           1       0.67      0.47      0.55      1046\n",
      "\n",
      "    accuracy                           0.80      3943\n",
      "   macro avg       0.75      0.69      0.71      3943\n",
      "weighted avg       0.79      0.80      0.79      3943\n",
      "\n"
     ]
    }
   ],
   "source": [
    "# Create Classification Report for Model 1\n",
    "print(classification_report(y_train, y_pred_clf))"
   ]
  },
  {
   "cell_type": "markdown",
   "id": "e9bdb081",
   "metadata": {},
   "source": [
    "### Evaluate:\n",
    "- Accuracy: 80%\n",
    "- Precision: 67%\n",
    "- Predicted 732 churns of which 241 were false \n",
    "\n",
    "### Model 2: Random Forest"
   ]
  },
  {
   "cell_type": "code",
   "execution_count": 27,
   "id": "f2733378",
   "metadata": {},
   "outputs": [],
   "source": [
    "# Using Random Forest to see if Accuracy and Precision increase\n",
    "# Create Random Forest Classifier Algorithym Container\n",
    "rf = RandomForestClassifier(max_depth=4, random_state=123)\n",
    "\n",
    "# Fit Train Data to Container to make the model\n",
    "rf = rf.fit(X_train, y_train)\n",
    "\n",
    "# Create Prediction Series\n",
    "y_pred_rf = rf.predict(X_train)"
   ]
  },
  {
   "cell_type": "code",
   "execution_count": 28,
   "id": "42cccd81",
   "metadata": {},
   "outputs": [
    {
     "name": "stdout",
     "output_type": "stream",
     "text": [
      "Actual on Left, Predicted on Top\n"
     ]
    },
    {
     "data": {
      "text/html": [
       "<div>\n",
       "<style scoped>\n",
       "    .dataframe tbody tr th:only-of-type {\n",
       "        vertical-align: middle;\n",
       "    }\n",
       "\n",
       "    .dataframe tbody tr th {\n",
       "        vertical-align: top;\n",
       "    }\n",
       "\n",
       "    .dataframe thead th {\n",
       "        text-align: right;\n",
       "    }\n",
       "</style>\n",
       "<table border=\"1\" class=\"dataframe\">\n",
       "  <thead>\n",
       "    <tr style=\"text-align: right;\">\n",
       "      <th></th>\n",
       "      <th>0</th>\n",
       "      <th>1</th>\n",
       "    </tr>\n",
       "  </thead>\n",
       "  <tbody>\n",
       "    <tr>\n",
       "      <th>0</th>\n",
       "      <td>2700</td>\n",
       "      <td>197</td>\n",
       "    </tr>\n",
       "    <tr>\n",
       "      <th>1</th>\n",
       "      <td>600</td>\n",
       "      <td>446</td>\n",
       "    </tr>\n",
       "  </tbody>\n",
       "</table>\n",
       "</div>"
      ],
      "text/plain": [
       "      0    1\n",
       "0  2700  197\n",
       "1   600  446"
      ]
     },
     "execution_count": 28,
     "metadata": {},
     "output_type": "execute_result"
    }
   ],
   "source": [
    "##Confusion Matrix for Model 2\n",
    "labels = sorted(y_train.unique())\n",
    "print('Actual on Left, Predicted on Top')\n",
    "pd.DataFrame(confusion_matrix(y_train, y_pred_rf), index=labels, columns=labels)"
   ]
  },
  {
   "cell_type": "code",
   "execution_count": 29,
   "id": "35a4da48",
   "metadata": {},
   "outputs": [
    {
     "name": "stdout",
     "output_type": "stream",
     "text": [
      "              precision    recall  f1-score   support\n",
      "\n",
      "           0       0.82      0.93      0.87      2897\n",
      "           1       0.69      0.43      0.53      1046\n",
      "\n",
      "    accuracy                           0.80      3943\n",
      "   macro avg       0.76      0.68      0.70      3943\n",
      "weighted avg       0.79      0.80      0.78      3943\n",
      "\n"
     ]
    }
   ],
   "source": [
    "# Create Classification Report for Model 2\n",
    "print(classification_report(y_train, y_pred_rf))"
   ]
  },
  {
   "cell_type": "markdown",
   "id": "3757a3e7",
   "metadata": {},
   "source": [
    "### Evaluate:\n",
    "- Accuracy: 80%\n",
    "- Precision: 69%\n",
    "- Predicted 643 churns of which 197 were false\n",
    "\n",
    "### Model 3: K-Nearest Neighbor"
   ]
  },
  {
   "cell_type": "code",
   "execution_count": 30,
   "id": "cb8a8f0e",
   "metadata": {},
   "outputs": [],
   "source": [
    "# Using KNN to see if Accuracy and Precision increase\n",
    "# Create Decision Tree Classifier Algorithym Container\n",
    "knn = KNeighborsClassifier(n_neighbors=5, weights='uniform')\n",
    "\n",
    "# Fit Train Data to Container to make the model\n",
    "knn = knn.fit(X_train, y_train)\n",
    "\n",
    "# Create Prediction Series\n",
    "y_pred_knn = knn.predict(X_train)"
   ]
  },
  {
   "cell_type": "code",
   "execution_count": 31,
   "id": "18e41947",
   "metadata": {},
   "outputs": [
    {
     "name": "stdout",
     "output_type": "stream",
     "text": [
      "Actual on Left, Predicted on Top\n"
     ]
    },
    {
     "data": {
      "text/html": [
       "<div>\n",
       "<style scoped>\n",
       "    .dataframe tbody tr th:only-of-type {\n",
       "        vertical-align: middle;\n",
       "    }\n",
       "\n",
       "    .dataframe tbody tr th {\n",
       "        vertical-align: top;\n",
       "    }\n",
       "\n",
       "    .dataframe thead th {\n",
       "        text-align: right;\n",
       "    }\n",
       "</style>\n",
       "<table border=\"1\" class=\"dataframe\">\n",
       "  <thead>\n",
       "    <tr style=\"text-align: right;\">\n",
       "      <th></th>\n",
       "      <th>0</th>\n",
       "      <th>1</th>\n",
       "    </tr>\n",
       "  </thead>\n",
       "  <tbody>\n",
       "    <tr>\n",
       "      <th>0</th>\n",
       "      <td>2656</td>\n",
       "      <td>241</td>\n",
       "    </tr>\n",
       "    <tr>\n",
       "      <th>1</th>\n",
       "      <td>399</td>\n",
       "      <td>647</td>\n",
       "    </tr>\n",
       "  </tbody>\n",
       "</table>\n",
       "</div>"
      ],
      "text/plain": [
       "      0    1\n",
       "0  2656  241\n",
       "1   399  647"
      ]
     },
     "execution_count": 31,
     "metadata": {},
     "output_type": "execute_result"
    }
   ],
   "source": [
    "##Confusion Matrix for Model 3\n",
    "labels = sorted(y_train.unique())\n",
    "print('Actual on Left, Predicted on Top')\n",
    "pd.DataFrame(confusion_matrix(y_train, y_pred_knn), index=labels, columns=labels)"
   ]
  },
  {
   "cell_type": "code",
   "execution_count": 32,
   "id": "068fe350",
   "metadata": {},
   "outputs": [
    {
     "name": "stdout",
     "output_type": "stream",
     "text": [
      "              precision    recall  f1-score   support\n",
      "\n",
      "           0       0.87      0.92      0.89      2897\n",
      "           1       0.73      0.62      0.67      1046\n",
      "\n",
      "    accuracy                           0.84      3943\n",
      "   macro avg       0.80      0.77      0.78      3943\n",
      "weighted avg       0.83      0.84      0.83      3943\n",
      "\n"
     ]
    }
   ],
   "source": [
    "# Create Classification Report for Model 3\n",
    "print(classification_report(y_train, y_pred_knn))"
   ]
  },
  {
   "cell_type": "markdown",
   "id": "b0808377",
   "metadata": {},
   "source": [
    "### Evaluate:\n",
    "- Accuracy: 84%\n",
    "- Precision: 73%\n",
    "- Predicted 888 of which 241 were false\n",
    "\n",
    "### Evaluation Summary:\n",
    "\n",
    "- K-Nearest Neighbor (Model 3) performed the best at 84% accuracy and 73% Precision. \n",
    "- Models do not appear to be overfit\n",
    "- Going forward with all models as there wasn't much difference in accuracy between them\n",
    "\n",
    "## Evaluate Validate Data with Models\n",
    "### Model 1: Decision Tree"
   ]
  },
  {
   "cell_type": "code",
   "execution_count": 33,
   "id": "eb63ed4f",
   "metadata": {},
   "outputs": [],
   "source": [
    "# Create Prediction Series\n",
    "y_pred_clf = clf.predict(X_validate)"
   ]
  },
  {
   "cell_type": "code",
   "execution_count": 34,
   "id": "9a668d19",
   "metadata": {},
   "outputs": [
    {
     "name": "stdout",
     "output_type": "stream",
     "text": [
      "Actual on Left, Predicted on Top\n"
     ]
    },
    {
     "data": {
      "text/html": [
       "<div>\n",
       "<style scoped>\n",
       "    .dataframe tbody tr th:only-of-type {\n",
       "        vertical-align: middle;\n",
       "    }\n",
       "\n",
       "    .dataframe tbody tr th {\n",
       "        vertical-align: top;\n",
       "    }\n",
       "\n",
       "    .dataframe thead th {\n",
       "        text-align: right;\n",
       "    }\n",
       "</style>\n",
       "<table border=\"1\" class=\"dataframe\">\n",
       "  <thead>\n",
       "    <tr style=\"text-align: right;\">\n",
       "      <th></th>\n",
       "      <th>0</th>\n",
       "      <th>1</th>\n",
       "    </tr>\n",
       "  </thead>\n",
       "  <tbody>\n",
       "    <tr>\n",
       "      <th>0</th>\n",
       "      <td>1111</td>\n",
       "      <td>131</td>\n",
       "    </tr>\n",
       "    <tr>\n",
       "      <th>1</th>\n",
       "      <td>232</td>\n",
       "      <td>217</td>\n",
       "    </tr>\n",
       "  </tbody>\n",
       "</table>\n",
       "</div>"
      ],
      "text/plain": [
       "      0    1\n",
       "0  1111  131\n",
       "1   232  217"
      ]
     },
     "execution_count": 34,
     "metadata": {},
     "output_type": "execute_result"
    }
   ],
   "source": [
    "#Confusion Matrix for Model 1\n",
    "labels = sorted(y_validate.unique())\n",
    "print('Actual on Left, Predicted on Top')\n",
    "pd.DataFrame(confusion_matrix(y_validate, y_pred_clf), index=labels, columns=labels)"
   ]
  },
  {
   "cell_type": "code",
   "execution_count": 35,
   "id": "8bbcc015",
   "metadata": {},
   "outputs": [
    {
     "name": "stdout",
     "output_type": "stream",
     "text": [
      "              precision    recall  f1-score   support\n",
      "\n",
      "           0       0.83      0.89      0.86      1242\n",
      "           1       0.62      0.48      0.54       449\n",
      "\n",
      "    accuracy                           0.79      1691\n",
      "   macro avg       0.73      0.69      0.70      1691\n",
      "weighted avg       0.77      0.79      0.78      1691\n",
      "\n"
     ]
    }
   ],
   "source": [
    "# Create Classification Report for Model 1\n",
    "print(classification_report(y_validate, y_pred_clf))"
   ]
  },
  {
   "cell_type": "markdown",
   "id": "6eff7b40",
   "metadata": {},
   "source": [
    "### Evaluate:\n",
    "- Accuracy: 79%\n",
    "- Precision: 62%\n",
    "- Predicted 348 churns of which 131 were false\n",
    "\n",
    "### Model 2: Random Forest"
   ]
  },
  {
   "cell_type": "code",
   "execution_count": 36,
   "id": "96611daf",
   "metadata": {},
   "outputs": [],
   "source": [
    "# Create Prediction Series\n",
    "y_pred_rf = rf.predict(X_validate)"
   ]
  },
  {
   "cell_type": "code",
   "execution_count": 37,
   "id": "48a01d9e",
   "metadata": {},
   "outputs": [
    {
     "name": "stdout",
     "output_type": "stream",
     "text": [
      "Actual on Left, Predicted on Top\n"
     ]
    },
    {
     "data": {
      "text/html": [
       "<div>\n",
       "<style scoped>\n",
       "    .dataframe tbody tr th:only-of-type {\n",
       "        vertical-align: middle;\n",
       "    }\n",
       "\n",
       "    .dataframe tbody tr th {\n",
       "        vertical-align: top;\n",
       "    }\n",
       "\n",
       "    .dataframe thead th {\n",
       "        text-align: right;\n",
       "    }\n",
       "</style>\n",
       "<table border=\"1\" class=\"dataframe\">\n",
       "  <thead>\n",
       "    <tr style=\"text-align: right;\">\n",
       "      <th></th>\n",
       "      <th>0</th>\n",
       "      <th>1</th>\n",
       "    </tr>\n",
       "  </thead>\n",
       "  <tbody>\n",
       "    <tr>\n",
       "      <th>0</th>\n",
       "      <td>1156</td>\n",
       "      <td>86</td>\n",
       "    </tr>\n",
       "    <tr>\n",
       "      <th>1</th>\n",
       "      <td>247</td>\n",
       "      <td>202</td>\n",
       "    </tr>\n",
       "  </tbody>\n",
       "</table>\n",
       "</div>"
      ],
      "text/plain": [
       "      0    1\n",
       "0  1156   86\n",
       "1   247  202"
      ]
     },
     "execution_count": 37,
     "metadata": {},
     "output_type": "execute_result"
    }
   ],
   "source": [
    "##Confusion Matrix for Model 2\n",
    "labels = sorted(y_validate.unique())\n",
    "print('Actual on Left, Predicted on Top')\n",
    "pd.DataFrame(confusion_matrix(y_validate, y_pred_rf), index=labels, columns=labels)"
   ]
  },
  {
   "cell_type": "code",
   "execution_count": 38,
   "id": "cb7f48f1",
   "metadata": {},
   "outputs": [
    {
     "name": "stdout",
     "output_type": "stream",
     "text": [
      "              precision    recall  f1-score   support\n",
      "\n",
      "           0       0.82      0.93      0.87      1242\n",
      "           1       0.70      0.45      0.55       449\n",
      "\n",
      "    accuracy                           0.80      1691\n",
      "   macro avg       0.76      0.69      0.71      1691\n",
      "weighted avg       0.79      0.80      0.79      1691\n",
      "\n"
     ]
    }
   ],
   "source": [
    "# Create Classification Report for Model 2\n",
    "print(classification_report(y_validate, y_pred_rf))"
   ]
  },
  {
   "cell_type": "markdown",
   "id": "c170ff9e",
   "metadata": {},
   "source": [
    "### Evaluate:\n",
    "- Accuracy: 80%\n",
    "- Precision: 70%\n",
    "- Predicted 290 of which 88 were false\n",
    "\n",
    "### Model 3: K-Nearest Neighbor"
   ]
  },
  {
   "cell_type": "code",
   "execution_count": 39,
   "id": "d53baa37",
   "metadata": {},
   "outputs": [],
   "source": [
    "# Create Prediction Series\n",
    "y_pred_knn = knn.predict(X_validate)"
   ]
  },
  {
   "cell_type": "code",
   "execution_count": 40,
   "id": "297fc702",
   "metadata": {},
   "outputs": [
    {
     "name": "stdout",
     "output_type": "stream",
     "text": [
      "Actual on Left, Predicted on Top\n"
     ]
    },
    {
     "data": {
      "text/html": [
       "<div>\n",
       "<style scoped>\n",
       "    .dataframe tbody tr th:only-of-type {\n",
       "        vertical-align: middle;\n",
       "    }\n",
       "\n",
       "    .dataframe tbody tr th {\n",
       "        vertical-align: top;\n",
       "    }\n",
       "\n",
       "    .dataframe thead th {\n",
       "        text-align: right;\n",
       "    }\n",
       "</style>\n",
       "<table border=\"1\" class=\"dataframe\">\n",
       "  <thead>\n",
       "    <tr style=\"text-align: right;\">\n",
       "      <th></th>\n",
       "      <th>0</th>\n",
       "      <th>1</th>\n",
       "    </tr>\n",
       "  </thead>\n",
       "  <tbody>\n",
       "    <tr>\n",
       "      <th>0</th>\n",
       "      <td>1072</td>\n",
       "      <td>170</td>\n",
       "    </tr>\n",
       "    <tr>\n",
       "      <th>1</th>\n",
       "      <td>209</td>\n",
       "      <td>240</td>\n",
       "    </tr>\n",
       "  </tbody>\n",
       "</table>\n",
       "</div>"
      ],
      "text/plain": [
       "      0    1\n",
       "0  1072  170\n",
       "1   209  240"
      ]
     },
     "execution_count": 40,
     "metadata": {},
     "output_type": "execute_result"
    }
   ],
   "source": [
    "##Confusion Matrix for Model 3\n",
    "labels = sorted(y_train.unique())\n",
    "print('Actual on Left, Predicted on Top')\n",
    "pd.DataFrame(confusion_matrix(y_validate, y_pred_knn), index=labels, columns=labels)"
   ]
  },
  {
   "cell_type": "code",
   "execution_count": 41,
   "id": "e47cd3df",
   "metadata": {},
   "outputs": [
    {
     "name": "stdout",
     "output_type": "stream",
     "text": [
      "              precision    recall  f1-score   support\n",
      "\n",
      "           0       0.84      0.86      0.85      1242\n",
      "           1       0.59      0.53      0.56       449\n",
      "\n",
      "    accuracy                           0.78      1691\n",
      "   macro avg       0.71      0.70      0.70      1691\n",
      "weighted avg       0.77      0.78      0.77      1691\n",
      "\n"
     ]
    }
   ],
   "source": [
    "# Create Classification Report for Model 3\n",
    "print(classification_report(y_validate, y_pred_knn))"
   ]
  },
  {
   "cell_type": "markdown",
   "id": "af985e9c",
   "metadata": {},
   "source": [
    "### Evaluate:\n",
    "- Accuracy: 78%\n",
    "- Precision: 59%\n",
    "- Predicted 410 churns of which 170 were false\n",
    "\n",
    "### Evaluation Summary:\n",
    "Random Forest (Model 2) did slightly better on the validate sample with 80% accuracy and 59% precision. It is also less overfit than K-Nearest Neighbor (Model 3). Going forward with Random Forest.\n",
    "\n",
    "## Evaluate Test Data with Model 2\n",
    "### Model 2: Random Forest"
   ]
  },
  {
   "cell_type": "code",
   "execution_count": 42,
   "id": "15e1cb24",
   "metadata": {},
   "outputs": [],
   "source": [
    "# Create Prediction Series\n",
    "y_pred_rf = rf.predict(X_test)"
   ]
  },
  {
   "cell_type": "code",
   "execution_count": 43,
   "id": "870ad7fe",
   "metadata": {},
   "outputs": [
    {
     "name": "stdout",
     "output_type": "stream",
     "text": [
      "Actual on Left, Predicted on Top\n"
     ]
    },
    {
     "data": {
      "text/html": [
       "<div>\n",
       "<style scoped>\n",
       "    .dataframe tbody tr th:only-of-type {\n",
       "        vertical-align: middle;\n",
       "    }\n",
       "\n",
       "    .dataframe tbody tr th {\n",
       "        vertical-align: top;\n",
       "    }\n",
       "\n",
       "    .dataframe thead th {\n",
       "        text-align: right;\n",
       "    }\n",
       "</style>\n",
       "<table border=\"1\" class=\"dataframe\">\n",
       "  <thead>\n",
       "    <tr style=\"text-align: right;\">\n",
       "      <th></th>\n",
       "      <th>0</th>\n",
       "      <th>1</th>\n",
       "    </tr>\n",
       "  </thead>\n",
       "  <tbody>\n",
       "    <tr>\n",
       "      <th>0</th>\n",
       "      <td>958</td>\n",
       "      <td>77</td>\n",
       "    </tr>\n",
       "    <tr>\n",
       "      <th>1</th>\n",
       "      <td>208</td>\n",
       "      <td>166</td>\n",
       "    </tr>\n",
       "  </tbody>\n",
       "</table>\n",
       "</div>"
      ],
      "text/plain": [
       "     0    1\n",
       "0  958   77\n",
       "1  208  166"
      ]
     },
     "execution_count": 43,
     "metadata": {},
     "output_type": "execute_result"
    }
   ],
   "source": [
    "##Confusion Matrix for Model 2\n",
    "labels = sorted(y_test.unique())\n",
    "print('Actual on Left, Predicted on Top')\n",
    "pd.DataFrame(confusion_matrix(y_test, y_pred_rf), index=labels, columns=labels)"
   ]
  },
  {
   "cell_type": "code",
   "execution_count": 44,
   "id": "cc85323b",
   "metadata": {},
   "outputs": [
    {
     "name": "stdout",
     "output_type": "stream",
     "text": [
      "              precision    recall  f1-score   support\n",
      "\n",
      "           0       0.82      0.93      0.87      1035\n",
      "           1       0.68      0.44      0.54       374\n",
      "\n",
      "    accuracy                           0.80      1409\n",
      "   macro avg       0.75      0.68      0.70      1409\n",
      "weighted avg       0.78      0.80      0.78      1409\n",
      "\n"
     ]
    }
   ],
   "source": [
    "# Create Classification Report for Model 2\n",
    "print(classification_report(y_test, y_pred_rf))"
   ]
  },
  {
   "cell_type": "markdown",
   "id": "1712d207",
   "metadata": {},
   "source": [
    "### Evaluate\n",
    "- Accuracy: 80%\n",
    "- Precision: 68%\n",
    "- Predicted 243 of which 77 are false\n",
    "\n",
    "### This model is expected to perform with 80% accuracy on unseen data assuming there are no major changes in our data source. "
   ]
  },
  {
   "cell_type": "markdown",
   "id": "ab7531e8",
   "metadata": {},
   "source": [
    "## Conclusion\n",
    "\n",
    "### Summary\n",
    "Initial Questions:\n",
    "1. How many customers are churning and not churning?\n",
    "\n",
    "2. What is the timeline of churn?\n",
    "\n",
    "3. At what month of tenure are they churning?\n",
    "\n",
    "4. What non-monetary drivers are associated with churned customers?\n",
    "\n",
    "5. What monetary drivers are associated with churned customers?\n",
    "\n",
    "6. Do monetary drivers outweigh non-monetary drivers?\n",
    "\n",
    "7. What drivers are easiest to change with least amount of impact to the customer?\n",
    "\n",
    "The questions changed through exploration and the following is what I learned:\n",
    "\n",
    "- Churn is problem with 27% of customers churning and the highest churn happening at month 1 of tenure.\n",
    "- People attributes were greater than service attributes in amounts of significant attributes and churn.\n",
    "- Top 3 attributes associated with churn: month-to-month contract, manual payments, paperless billing.\n",
    "- Using the Random Forest Model, expect 80% accuracy with predicting customers that will churn.\n",
    "\n",
    "### Recommendations\n",
    "Use the model to predict customers that will churn and promote to those customers a transition to annual contracts, auto payments, or paper billing.\n",
    "\n",
    "### Next Steps\n",
    "- With more time, I would explore why churn is occuring highest at first tenure month. \n",
    "- What is about the first month of service that people don't like?\n",
    "- Create a service cancellation survey?"
   ]
  },
  {
   "cell_type": "markdown",
   "id": "0ebcde68",
   "metadata": {},
   "source": [
    "### Thank you"
   ]
  },
  {
   "cell_type": "code",
   "execution_count": null,
   "id": "fa8e3afa",
   "metadata": {},
   "outputs": [],
   "source": []
  }
 ],
 "metadata": {
  "kernelspec": {
   "display_name": "Python 3",
   "language": "python",
   "name": "python3"
  },
  "language_info": {
   "codemirror_mode": {
    "name": "ipython",
    "version": 3
   },
   "file_extension": ".py",
   "mimetype": "text/x-python",
   "name": "python",
   "nbconvert_exporter": "python",
   "pygments_lexer": "ipython3",
   "version": "3.8.8"
  }
 },
 "nbformat": 4,
 "nbformat_minor": 5
}
